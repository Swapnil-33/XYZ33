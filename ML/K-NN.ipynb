{
 "cells": [
  {
   "cell_type": "code",
   "execution_count": 1,
   "metadata": {},
   "outputs": [
    {
     "name": "stdout",
     "output_type": "stream",
     "text": [
      "[[2 4]\n",
      " [4 2]\n",
      " [4 4]\n",
      " [4 6]\n",
      " [6 2]\n",
      " [6 4]]\n"
     ]
    }
   ],
   "source": [
    "import numpy as np\n",
    "samplepoints=np.array([(2,4),(4,2),(4,4),(4,6),(6,2),(6,4)])\n",
    "print(samplepoints)"
   ]
  },
  {
   "cell_type": "code",
   "execution_count": 2,
   "metadata": {},
   "outputs": [
    {
     "name": "stdout",
     "output_type": "stream",
     "text": [
      "[0 0 1 0 1 0]\n"
     ]
    }
   ],
   "source": [
    "colorarray=np.array([0,0,1,0,1,0])\n",
    "print(colorarray)"
   ]
  },
  {
   "cell_type": "code",
   "execution_count": 3,
   "metadata": {},
   "outputs": [
    {
     "name": "stdout",
     "output_type": "stream",
     "text": [
      "[[6 6]]\n",
      "6\n"
     ]
    }
   ],
   "source": [
    "Distancearray=[]\n",
    "k=3\n",
    "tofind=np.array([(6,6)])\n",
    "print(tofind)\n",
    "print(tofind[0][0])"
   ]
  },
  {
   "cell_type": "code",
   "execution_count": 4,
   "metadata": {},
   "outputs": [
    {
     "name": "stdout",
     "output_type": "stream",
     "text": [
      "[20]\n",
      "[20, 20]\n",
      "[20, 20, 8]\n",
      "[20, 20, 8, 4]\n",
      "[20, 20, 8, 4, 16]\n",
      "[20, 20, 8, 4, 16, 4]\n"
     ]
    }
   ],
   "source": [
    "for i in range(0,len(samplepoints)):\n",
    "    q=((samplepoints[i][0]-tofind[0][0])**2)+((samplepoints[i][1]-tofind[0][1])**2)\n",
    "    Distancearray.append(q)\n",
    "    print(Distancearray)\n",
    "    \n"
   ]
  },
  {
   "cell_type": "code",
   "execution_count": 5,
   "metadata": {},
   "outputs": [
    {
     "name": "stdout",
     "output_type": "stream",
     "text": [
      "[20, 20, 8, 4, 16, 4]\n",
      "<zip object at 0x000001D899ECBBC8>\n"
     ]
    }
   ],
   "source": [
    "print(Distancearray)\n",
    "ziparray=zip(Distancearray,colorarray)\n",
    "print(ziparray)"
   ]
  },
  {
   "cell_type": "code",
   "execution_count": 6,
   "metadata": {},
   "outputs": [
    {
     "name": "stdout",
     "output_type": "stream",
     "text": [
      "[(20, 0), (20, 0), (8, 1), (4, 0), (16, 1), (4, 0)]\n"
     ]
    }
   ],
   "source": [
    "Listarray=list(ziparray)\n",
    "print(Listarray)"
   ]
  },
  {
   "cell_type": "code",
   "execution_count": 7,
   "metadata": {},
   "outputs": [
    {
     "name": "stdout",
     "output_type": "stream",
     "text": [
      "[(4, 0), (4, 0), (8, 1), (16, 1), (20, 0), (20, 0)]\n"
     ]
    }
   ],
   "source": [
    "Listarray.sort()\n",
    "print(Listarray)"
   ]
  },
  {
   "cell_type": "code",
   "execution_count": 8,
   "metadata": {},
   "outputs": [
    {
     "name": "stdout",
     "output_type": "stream",
     "text": [
      "[(4, 0), (4, 0), (8, 1)]\n"
     ]
    }
   ],
   "source": [
    "Listarray=Listarray[0:k]\n",
    "print(Listarray)"
   ]
  },
  {
   "cell_type": "code",
   "execution_count": 9,
   "metadata": {},
   "outputs": [
    {
     "name": "stdout",
     "output_type": "stream",
     "text": [
      "2\n",
      "1\n"
     ]
    }
   ],
   "source": [
    "temp0=0\n",
    "temp1=0\n",
    "for i in range(0,k):\n",
    "    if Listarray[i][1]==0:\n",
    "        temp0=temp0+1;\n",
    "    else:\n",
    "        temp1=temp1+1;\n",
    "    \n",
    "print(temp0)\n",
    "print(temp1)"
   ]
  },
  {
   "cell_type": "code",
   "execution_count": null,
   "metadata": {},
   "outputs": [],
   "source": []
  }
 ],
 "metadata": {
  "kernelspec": {
   "display_name": "Python 3",
   "language": "python",
   "name": "python3"
  },
  "language_info": {
   "codemirror_mode": {
    "name": "ipython",
    "version": 3
   },
   "file_extension": ".py",
   "mimetype": "text/x-python",
   "name": "python",
   "nbconvert_exporter": "python",
   "pygments_lexer": "ipython3",
   "version": "3.6.5"
  }
 },
 "nbformat": 4,
 "nbformat_minor": 2
}
